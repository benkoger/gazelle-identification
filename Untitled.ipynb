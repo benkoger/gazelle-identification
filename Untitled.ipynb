{
 "cells": [
  {
   "cell_type": "code",
   "execution_count": null,
   "metadata": {
    "collapsed": true
   },
   "outputs": [],
   "source": [
    "'''\n",
    "takes in a directory and creates a train_val.txt file like one\n",
    "gets in the pets data set and is nessisary for create_~_tf_record.py\n",
    "in tensorflow/models/object_detection \n",
    "'''\n",
    "\n",
    "import os\n",
    "import tensorflow as tf\n",
    "from tensorflow.python.platform import gfile\n",
    "\n",
    "\n",
    "\n",
    "output_file = 'trainval.txt' \n",
    "data_dir = '/home/golden/Projects/gazelle_identification/gazelle/data/high_count' \n",
    "files = [x[2] for x in gfile.Walk(data_dir)]\n",
    "with open(output_file, 'w') as f:\n",
    "    for file_name in files[0]:\n",
    "        f.write(os.path.splitext(file_name)[0] + ' \\n')"
   ]
  }
 ],
 "metadata": {
  "kernelspec": {
   "display_name": "Python 3",
   "language": "python",
   "name": "python3"
  },
  "language_info": {
   "codemirror_mode": {
    "name": "ipython",
    "version": 3
   },
   "file_extension": ".py",
   "mimetype": "text/x-python",
   "name": "python",
   "nbconvert_exporter": "python",
   "pygments_lexer": "ipython3",
   "version": "3.5.3"
  }
 },
 "nbformat": 4,
 "nbformat_minor": 2
}
